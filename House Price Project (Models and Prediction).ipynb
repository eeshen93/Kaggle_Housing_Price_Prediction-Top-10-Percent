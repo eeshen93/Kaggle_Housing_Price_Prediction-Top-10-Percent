{
 "cells": [
  {
   "cell_type": "markdown",
   "id": "b0ffaa5f",
   "metadata": {},
   "source": [
    "## Machine Learning Models"
   ]
  },
  {
   "cell_type": "markdown",
   "id": "75a2d005",
   "metadata": {},
   "source": [
    "### Import Libraries"
   ]
  },
  {
   "cell_type": "code",
   "execution_count": 3,
   "id": "dab45031",
   "metadata": {},
   "outputs": [],
   "source": [
    "import pandas as pd\n",
    "import numpy as np\n",
    "import matplotlib.pyplot as plt\n",
    "%matplotlib inline\n",
    "\n",
    "from sklearn.linear_model import Lasso\n",
    "from sklearn.feature_selection import SelectFromModel\n",
    "from sklearn.model_selection import train_test_split\n",
    "from sklearn.model_selection import cross_val_score, RandomizedSearchCV\n",
    "from sklearn.model_selection import cross_val_predict\n",
    "\n",
    "pd.pandas.set_option('display.max_columns', None)"
   ]
  },
  {
   "cell_type": "code",
   "execution_count": 4,
   "id": "5a05776e",
   "metadata": {},
   "outputs": [],
   "source": [
    "dataset=pd.read_csv('X_train.csv')\n",
    "dataset_test=pd.read_csv('X_test.csv')"
   ]
  },
  {
   "cell_type": "code",
   "execution_count": 5,
   "id": "93b639af",
   "metadata": {
    "scrolled": true
   },
   "outputs": [
    {
     "name": "stdout",
     "output_type": "stream",
     "text": [
      "255\n",
      "255\n"
     ]
    }
   ],
   "source": [
    "print (len(dataset_test.columns))\n",
    "print (len(dataset.columns))"
   ]
  },
  {
   "cell_type": "markdown",
   "id": "26f24a91",
   "metadata": {},
   "source": [
    "### Defining predictor and target variables"
   ]
  },
  {
   "cell_type": "code",
   "execution_count": 6,
   "id": "009ffb09",
   "metadata": {},
   "outputs": [],
   "source": [
    "X=[]\n",
    "for feature in dataset.columns:\n",
    "    if feature not in ['Id','SalePrice','YrSold','SalePrice1']:\n",
    "        X.append(feature)\n",
    "\n",
    "Y='SalePrice'"
   ]
  },
  {
   "cell_type": "markdown",
   "id": "25aeeb14",
   "metadata": {},
   "source": [
    "### Ensemble regression models with weighted predictions\n",
    "\n",
    "1. XGBRegrssor (50%)\n",
    "2. Lasso (25%)\n",
    "3. Ridfe (25%)"
   ]
  },
  {
   "cell_type": "code",
   "execution_count": 11,
   "id": "c4b6f848",
   "metadata": {},
   "outputs": [],
   "source": [
    "from xgboost import XGBRegressor\n",
    "from sklearn.metrics import mean_absolute_error, mean_squared_error\n",
    "from sklearn.ensemble import RandomForestRegressor, AdaBoostRegressor\n",
    "from sklearn.linear_model import Lasso, Ridge\n",
    "import statistics"
   ]
  },
  {
   "cell_type": "code",
   "execution_count": 14,
   "id": "23ffdb8e",
   "metadata": {},
   "outputs": [
    {
     "name": "stdout",
     "output_type": "stream",
     "text": [
      "XGB: 0.12514044626249182 Ridge: 0.1446361995306658 Lasso: 0.12525502558540189 Combined: 0.12188440282600553\n",
      "XGB: 0.1197609707640467 Ridge: 0.13130724713151745 Lasso: 0.12194710129571555 Combined: 0.11512083014580904\n",
      "XGB: 0.1371216228166307 Ridge: 0.14236002297860395 Lasso: 0.1229045930279637 Combined: 0.12037233904093576\n",
      "XGB: 0.11250658819642306 Ridge: 0.18025300164018068 Lasso: 0.14261833088575018 Combined: 0.12254453596241714\n",
      "XGB: 0.10262592597692069 Ridge: 0.11111405509645199 Lasso: 0.10011866328623416 Combined: 0.0905856497213898\n",
      "XGB: 0.1362973714774195 Ridge: 0.13921790292401257 Lasso: 0.13070262104843083 Combined: 0.12493017369697976\n",
      "XGB: 0.12775825346912406 Ridge: 0.13006944992658673 Lasso: 0.12800914447971418 Combined: 0.11949242935553792\n",
      "XGB: 0.11486340810014566 Ridge: 0.12170963468075356 Lasso: 0.12060762971268048 Combined: 0.10972182963618846\n",
      "XGB: 0.09840181299874562 Ridge: 0.10225809602076823 Lasso: 0.10047472271508738 Combined: 0.09054257566550904\n",
      "XGB: 0.09620900280695666 Ridge: 0.10291001514379056 Lasso: 0.09787317455166253 Combined: 0.08870627041314467\n",
      "XGB: 0.12914747692725403 Ridge: 0.12172724406548543 Lasso: 0.12004305217111602 Combined: 0.11921272317329326\n",
      "XGB: 0.1315585595815326 Ridge: 0.1378733706943682 Lasso: 0.13041685638648204 Combined: 0.1248363095325429\n",
      "XGB: 0.13596234299284196 Ridge: 0.15255052625691462 Lasso: 0.13714757109097142 Combined: 0.13439287437476014\n",
      "XGB: 0.13555372820667885 Ridge: 0.18652974183660775 Lasso: 0.15368965731360865 Combined: 0.13892072678488127\n",
      "XGB: 0.11940281479176919 Ridge: 0.11386083986840562 Lasso: 0.11543346893560326 Combined: 0.10900094897455807\n",
      "XGB: 0.12764248205495754 Ridge: 0.13403993071361633 Lasso: 0.12536677810190525 Combined: 0.12129845213436567\n",
      "XGB: 0.1453232869651473 Ridge: 0.16118593520244406 Lasso: 0.14347465987136013 Combined: 0.1407992698140659\n",
      "XGB: 0.13902415767883342 Ridge: 0.14142461276313137 Lasso: 0.13975161446896728 Combined: 0.13204367626989594\n",
      "XGB: 0.09927205991913769 Ridge: 0.11038599350952794 Lasso: 0.09732736249252635 Combined: 0.09044674077636994\n",
      "XGB: 0.1524991341434129 Ridge: 0.14866743237247645 Lasso: 0.14285660821041657 Combined: 0.14349128727320365\n",
      "0.11791720227859269\n"
     ]
    }
   ],
   "source": [
    "x=20\n",
    "result=[]\n",
    "for i in range(x):\n",
    "    X_train, X_test, y_train, y_test = train_test_split(dataset[X],dataset[Y],test_size=0.15, random_state=i)\n",
    "    \n",
    "   \n",
    "    #reg4=AdaBoostRegressor(n_estimators=1000, loss='square', learning_rate=0.02)\n",
    "    #reg4.fit(X_train, y_train)\n",
    "    #ypred4=reg4.predict(X_test)\n",
    "    #mse4= mean_squared_error(y_test,ypred4)\n",
    "    \n",
    "    reg3=XGBRegressor(eval_metric='rmse',max_depth=5,booster='gbtree', n_estimators=1000, learning_rate=0.02)\n",
    "\n",
    "    reg3.fit(X_train, y_train)\n",
    "    ypred3=reg3.predict(X_test)\n",
    "    mse3= mean_squared_error(y_test,ypred3)\n",
    "    \n",
    "    reg2=Ridge(alpha=0.001, random_state=0)\n",
    "    reg2.fit(X_train,y_train)\n",
    "    ypred2=reg2.predict(X_test)\n",
    "    mse2= mean_squared_error(y_test,ypred2)\n",
    "    \n",
    "    reg1=Lasso(alpha=0.001, random_state=0)\n",
    "    reg1.fit(X_train,y_train)\n",
    "    ypred1=reg1.predict(X_test)\n",
    "    mse1= mean_squared_error(y_test,ypred1)\n",
    "    \n",
    "   # reg=LinearRegression()\n",
    "   # reg.fit(X_train[X1],y_train)\n",
    "    \n",
    "    ypred_all=(0.5*ypred3)+(0.25*ypred2)+(0.25*ypred1)\n",
    "    mse_all=mean_squared_error(y_test,ypred_all)\n",
    "    result.append(mse_all**(0.5))\n",
    "    print ('XGB:', mse3**(0.5),'Ridge:',mse2**(0.5),'Lasso:',mse1**(0.5),'Combined:',mse_all**(0.5))\n",
    "\n",
    "print (statistics.mean(result))"
   ]
  },
  {
   "cell_type": "code",
   "execution_count": 439,
   "id": "d1c1ca3d",
   "metadata": {},
   "outputs": [],
   "source": [
    "reg3=XGBRegressor(eval_metric='rmse',max_depth=5,booster='gbtree', n_estimators=1000, learning_rate=0.02)\n",
    "reg3.fit(dataset[X],dataset[Y])\n",
    "ypred3=reg3.predict(dataset_test[X])\n",
    "reg2=Ridge(alpha=0.001, random_state=0)\n",
    "reg2.fit(dataset[X],dataset[Y])\n",
    "ypred2=reg2.predict(dataset_test[X])\n",
    "reg1=Lasso(alpha=0.001, random_state=0)\n",
    "reg1.fit(dataset[X],dataset[Y])\n",
    "ypred1=reg1.predict(dataset_test[X])\n",
    "\n",
    "ypred_all=(0.5*ypred3)+(0.25*ypred2)+(0.25*ypred1)\n",
    "ypred_all=np.exp(ypred_all)\n",
    "dataset_test['SalePrice']=ypred_all\n",
    "data=dataset_test[['Id','SalePrice']]\n",
    "\n",
    "data.to_csv('submission2.csv', index=False)"
   ]
  },
  {
   "cell_type": "code",
   "execution_count": null,
   "id": "62431460",
   "metadata": {},
   "outputs": [],
   "source": []
  }
 ],
 "metadata": {
  "kernelspec": {
   "display_name": "Python 3",
   "language": "python",
   "name": "python3"
  },
  "language_info": {
   "codemirror_mode": {
    "name": "ipython",
    "version": 3
   },
   "file_extension": ".py",
   "mimetype": "text/x-python",
   "name": "python",
   "nbconvert_exporter": "python",
   "pygments_lexer": "ipython3",
   "version": "3.8.8"
  }
 },
 "nbformat": 4,
 "nbformat_minor": 5
}
